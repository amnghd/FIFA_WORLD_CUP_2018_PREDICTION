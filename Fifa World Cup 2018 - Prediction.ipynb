{
 "cells": [
  {
   "cell_type": "markdown",
   "metadata": {},
   "source": [
    "# Fifa World Cup 2018 - Prediction"
   ]
  },
  {
   "cell_type": "markdown",
   "metadata": {},
   "source": [
    "## Brainstorming\n",
    "\n",
    "This section is dedicated to the Exploratory Data Analysis and brainstoriming on possible faetures and problem formulation."
   ]
  },
  {
   "cell_type": "code",
   "execution_count": 2,
   "metadata": {},
   "outputs": [],
   "source": [
    "import pandas as pd\n",
    "import numpy as np\n",
    "import matplotlib.pyplot as plt\n",
    "import sqlalchemy\n",
    "%matplotlib inline"
   ]
  },
  {
   "cell_type": "markdown",
   "metadata": {},
   "source": [
    "### Dataset 1: [International football results from 1872 to 2018](https://www.kaggle.com/martj42/international-football-results-from-1872-to-2017/data):\n",
    "\n",
    "This data set contains the results of internation games for the past 146 years.\n",
    "\n",
    "AG: Let's import the main data set(international games).\n",
    "With this we can get some data for all the available games till now.\n",
    "Especially the last 2 decades of these data can be used to extract some useful information for each team. These are the features I think we can get out of this data:\n",
    "\n",
    "- Win to lose ratio total\n",
    "- Win to lose ration general\n",
    "- Mean goal scored ( **this can be used to define weather team is defensive or not** )\n",
    "- Mean goal recieved ( **this can be used to define weather team is offensive or not** )"
   ]
  },
  {
   "cell_type": "code",
   "execution_count": 4,
   "metadata": {},
   "outputs": [],
   "source": [
    "international_matches = pd.read_csv('international_matches.zip', compression='zip', header=0, sep=',', quotechar='\"')"
   ]
  },
  {
   "cell_type": "code",
   "execution_count": 3,
   "metadata": {},
   "outputs": [
    {
     "name": "stdout",
     "output_type": "stream",
     "text": [
      "<class 'pandas.core.frame.DataFrame'>\n",
      "RangeIndex: 38902 entries, 0 to 38901\n",
      "Data columns (total 8 columns):\n",
      "date          38902 non-null object\n",
      "home_team     38902 non-null object\n",
      "away_team     38902 non-null object\n",
      "home_score    38902 non-null int64\n",
      "away_score    38902 non-null int64\n",
      "tournament    38902 non-null object\n",
      "city          38902 non-null object\n",
      "country       38902 non-null object\n",
      "dtypes: int64(2), object(6)\n",
      "memory usage: 1.5+ MB\n"
     ]
    }
   ],
   "source": [
    "international_matches.info()"
   ]
  },
  {
   "cell_type": "markdown",
   "metadata": {},
   "source": [
    " ### Initial content's dataset"
   ]
  },
  {
   "cell_type": "code",
   "execution_count": 5,
   "metadata": {},
   "outputs": [
    {
     "data": {
      "text/html": [
       "<div>\n",
       "<style scoped>\n",
       "    .dataframe tbody tr th:only-of-type {\n",
       "        vertical-align: middle;\n",
       "    }\n",
       "\n",
       "    .dataframe tbody tr th {\n",
       "        vertical-align: top;\n",
       "    }\n",
       "\n",
       "    .dataframe thead th {\n",
       "        text-align: right;\n",
       "    }\n",
       "</style>\n",
       "<table border=\"1\" class=\"dataframe\">\n",
       "  <thead>\n",
       "    <tr style=\"text-align: right;\">\n",
       "      <th></th>\n",
       "      <th>date</th>\n",
       "      <th>home_team</th>\n",
       "      <th>away_team</th>\n",
       "      <th>home_score</th>\n",
       "      <th>away_score</th>\n",
       "      <th>tournament</th>\n",
       "      <th>city</th>\n",
       "      <th>country</th>\n",
       "    </tr>\n",
       "  </thead>\n",
       "  <tbody>\n",
       "    <tr>\n",
       "      <th>0</th>\n",
       "      <td>1872-11-30</td>\n",
       "      <td>Scotland</td>\n",
       "      <td>England</td>\n",
       "      <td>0</td>\n",
       "      <td>0</td>\n",
       "      <td>Friendly</td>\n",
       "      <td>Glasgow</td>\n",
       "      <td>Scotland</td>\n",
       "    </tr>\n",
       "    <tr>\n",
       "      <th>1</th>\n",
       "      <td>1873-03-08</td>\n",
       "      <td>England</td>\n",
       "      <td>Scotland</td>\n",
       "      <td>4</td>\n",
       "      <td>2</td>\n",
       "      <td>Friendly</td>\n",
       "      <td>London</td>\n",
       "      <td>England</td>\n",
       "    </tr>\n",
       "    <tr>\n",
       "      <th>2</th>\n",
       "      <td>1874-03-07</td>\n",
       "      <td>Scotland</td>\n",
       "      <td>England</td>\n",
       "      <td>2</td>\n",
       "      <td>1</td>\n",
       "      <td>Friendly</td>\n",
       "      <td>Glasgow</td>\n",
       "      <td>Scotland</td>\n",
       "    </tr>\n",
       "    <tr>\n",
       "      <th>3</th>\n",
       "      <td>1875-03-06</td>\n",
       "      <td>England</td>\n",
       "      <td>Scotland</td>\n",
       "      <td>2</td>\n",
       "      <td>2</td>\n",
       "      <td>Friendly</td>\n",
       "      <td>London</td>\n",
       "      <td>England</td>\n",
       "    </tr>\n",
       "    <tr>\n",
       "      <th>4</th>\n",
       "      <td>1876-03-04</td>\n",
       "      <td>Scotland</td>\n",
       "      <td>England</td>\n",
       "      <td>3</td>\n",
       "      <td>0</td>\n",
       "      <td>Friendly</td>\n",
       "      <td>Glasgow</td>\n",
       "      <td>Scotland</td>\n",
       "    </tr>\n",
       "  </tbody>\n",
       "</table>\n",
       "</div>"
      ],
      "text/plain": [
       "         date home_team away_team  home_score  away_score tournament     city  \\\n",
       "0  1872-11-30  Scotland   England           0           0   Friendly  Glasgow   \n",
       "1  1873-03-08   England  Scotland           4           2   Friendly   London   \n",
       "2  1874-03-07  Scotland   England           2           1   Friendly  Glasgow   \n",
       "3  1875-03-06   England  Scotland           2           2   Friendly   London   \n",
       "4  1876-03-04  Scotland   England           3           0   Friendly  Glasgow   \n",
       "\n",
       "    country  \n",
       "0  Scotland  \n",
       "1   England  \n",
       "2  Scotland  \n",
       "3   England  \n",
       "4  Scotland  "
      ]
     },
     "execution_count": 5,
     "metadata": {},
     "output_type": "execute_result"
    }
   ],
   "source": [
    "international_matches.head()"
   ]
  },
  {
   "cell_type": "code",
   "execution_count": 57,
   "metadata": {},
   "outputs": [],
   "source": [
    "all_series = {}"
   ]
  },
  {
   "cell_type": "code",
   "execution_count": 58,
   "metadata": {},
   "outputs": [],
   "source": [
    "def process_team(row,type_team_prefix='home'):\n",
    "    \n",
    "    contrary_type = {\n",
    "        \"home\": \"away\",\n",
    "        \"away\": \"home\"\n",
    "    }\n",
    "    \n",
    "    # Creating variables to handle 'home' and 'away' teams independently\n",
    "    type_team = type_team_prefix + '_team'\n",
    "    contrary_team = contrary_type.get(type_team_prefix) + '_team'\n",
    "    \n",
    "    type_team_score = type_team_prefix + '_score'\n",
    "    contrary_team_score = contrary_type.get(type_team_prefix) + '_score'\n",
    "    \n",
    "    current_team = row[type_team]\n",
    "    \n",
    "    victory = row[type_team_score] > row[contrary_team_score]\n",
    "    lose = row[type_team_score] < row[contrary_team_score]\n",
    "    tie = row[type_team_score] == row[contrary_team_score]\n",
    "    \n",
    "    goals_scored = row[type_team_score]\n",
    "    goals_received = row[contrary_team_score]\n",
    "    \n",
    "    if current_team not in all_series:\n",
    "        \n",
    "        serie_team = {\n",
    "            \"Team\": current_team, \n",
    "            \"Victories\": int(victory), \n",
    "            \"Loses\": int(lose), \n",
    "            \"Ties\": int(tie), \n",
    "            \"Ratio(win/lose)\": 0, \n",
    "            \"Goals(scored)\": goals_scored, \n",
    "            \"Goals(received)\": goals_received\n",
    "        }\n",
    "        \n",
    "        all_series[current_team] = serie_team\n",
    "        \n",
    "    else:\n",
    "        if victory:\n",
    "            all_series[current_team]['Victories'] += 1\n",
    "        elif lose:\n",
    "            all_series[current_team]['Loses'] += 1\n",
    "        else:\n",
    "            all_series[current_team]['Ties'] += 1\n",
    "            \n",
    "        all_series[current_team]['Goals(scored)'] += goals_scored\n",
    "        all_series[current_team]['Goals(received)'] += goals_received"
   ]
  },
  {
   "cell_type": "code",
   "execution_count": 66,
   "metadata": {},
   "outputs": [],
   "source": [
    "for i , row in international_matches.iterrows():\n",
    "    process_team(row,'home')\n",
    "    process_team(row,'away')"
   ]
  },
  {
   "cell_type": "code",
   "execution_count": 67,
   "metadata": {},
   "outputs": [
    {
     "data": {
      "text/html": [
       "<div>\n",
       "<style scoped>\n",
       "    .dataframe tbody tr th:only-of-type {\n",
       "        vertical-align: middle;\n",
       "    }\n",
       "\n",
       "    .dataframe tbody tr th {\n",
       "        vertical-align: top;\n",
       "    }\n",
       "\n",
       "    .dataframe thead th {\n",
       "        text-align: right;\n",
       "    }\n",
       "</style>\n",
       "<table border=\"1\" class=\"dataframe\">\n",
       "  <thead>\n",
       "    <tr style=\"text-align: right;\">\n",
       "      <th></th>\n",
       "      <th>Team</th>\n",
       "      <th>Victories</th>\n",
       "      <th>Loses</th>\n",
       "      <th>Ties</th>\n",
       "      <th>Ratio(win/lose)</th>\n",
       "      <th>Goals(scored)</th>\n",
       "      <th>Goals(received)</th>\n",
       "    </tr>\n",
       "  </thead>\n",
       "  <tbody>\n",
       "    <tr>\n",
       "      <th>0</th>\n",
       "      <td>Scotland</td>\n",
       "      <td>1083</td>\n",
       "      <td>699</td>\n",
       "      <td>495</td>\n",
       "      <td>0</td>\n",
       "      <td>3954</td>\n",
       "      <td>2781</td>\n",
       "    </tr>\n",
       "    <tr>\n",
       "      <th>1</th>\n",
       "      <td>England</td>\n",
       "      <td>1656</td>\n",
       "      <td>555</td>\n",
       "      <td>714</td>\n",
       "      <td>0</td>\n",
       "      <td>6396</td>\n",
       "      <td>2883</td>\n",
       "    </tr>\n",
       "    <tr>\n",
       "      <th>2</th>\n",
       "      <td>Wales</td>\n",
       "      <td>591</td>\n",
       "      <td>903</td>\n",
       "      <td>414</td>\n",
       "      <td>0</td>\n",
       "      <td>2397</td>\n",
       "      <td>3189</td>\n",
       "    </tr>\n",
       "    <tr>\n",
       "      <th>3</th>\n",
       "      <td>Northern Ireland</td>\n",
       "      <td>474</td>\n",
       "      <td>966</td>\n",
       "      <td>432</td>\n",
       "      <td>0</td>\n",
       "      <td>1968</td>\n",
       "      <td>3564</td>\n",
       "    </tr>\n",
       "    <tr>\n",
       "      <th>4</th>\n",
       "      <td>USA</td>\n",
       "      <td>840</td>\n",
       "      <td>717</td>\n",
       "      <td>420</td>\n",
       "      <td>0</td>\n",
       "      <td>2841</td>\n",
       "      <td>2679</td>\n",
       "    </tr>\n",
       "  </tbody>\n",
       "</table>\n",
       "</div>"
      ],
      "text/plain": [
       "               Team  Victories  Loses  Ties  Ratio(win/lose)  Goals(scored)  \\\n",
       "0          Scotland       1083    699   495                0           3954   \n",
       "1           England       1656    555   714                0           6396   \n",
       "2             Wales        591    903   414                0           2397   \n",
       "3  Northern Ireland        474    966   432                0           1968   \n",
       "4               USA        840    717   420                0           2841   \n",
       "\n",
       "   Goals(received)  \n",
       "0             2781  \n",
       "1             2883  \n",
       "2             3189  \n",
       "3             3564  \n",
       "4             2679  "
      ]
     },
     "execution_count": 67,
     "metadata": {},
     "output_type": "execute_result"
    }
   ],
   "source": [
    "columns = [\"Team\",\"Victories\",\"Loses\",\"Ties\",\"Ratio(win/lose)\", \"Goals(scored)\",\"Goals(received)\"]\n",
    "\n",
    "infos_teams = pd.DataFrame(list(all_series.values()),columns=columns)\n",
    "infos_teams.head()"
   ]
  },
  {
   "cell_type": "markdown",
   "metadata": {},
   "source": [
    "### Dataset 2: fifa 2018 schedule\n",
    "\n",
    "> This dataset consist of all the games in the upcoming matches. What we are thinking of getting from this data is the name of the participating teams. Moreover, eventually we use them to predict all of the games and the champion."
   ]
  },
  {
   "cell_type": "code",
   "execution_count": 29,
   "metadata": {},
   "outputs": [],
   "source": [
    "fifa2018 = pd.read_csv('fifa2018.csv')"
   ]
  },
  {
   "cell_type": "code",
   "execution_count": 30,
   "metadata": {},
   "outputs": [],
   "source": [
    "counteris2018 = fifa2018['Home Team'].unique()[:32]"
   ]
  },
  {
   "cell_type": "code",
   "execution_count": 31,
   "metadata": {},
   "outputs": [
    {
     "data": {
      "text/plain": [
       "array(['Russia', 'Egypt', 'Morocco', 'Portugal', 'France', 'Argentina',\n",
       "       'Peru', 'Croatia', 'Costa Rica', 'Germany', 'Brazil', 'Sweden',\n",
       "       'Belgium', 'Tunisia', 'Colombia', 'Poland', 'Uruguay', 'Iran',\n",
       "       'Denmark', 'Nigeria', 'Serbia', 'Korea Republic', 'England',\n",
       "       'Japan', 'Saudi Arabia', 'Spain', 'Australia', 'Iceland', 'Mexico',\n",
       "       'Switzerland', 'Senegal', 'Panama'], dtype=object)"
      ]
     },
     "execution_count": 31,
     "metadata": {},
     "output_type": "execute_result"
    }
   ],
   "source": [
    "counteris2018"
   ]
  },
  {
   "cell_type": "markdown",
   "metadata": {},
   "source": [
    "### Dataset 3: [European Soccer Database](https://www.kaggle.com/hugomathien/soccer/data):\n",
    "\n",
    "(can anybody add some explanation here?)\n",
    "!!! You need to extract the players.sqlite.zip to the same folder !!!"
   ]
  },
  {
   "cell_type": "code",
   "execution_count": 46,
   "metadata": {},
   "outputs": [],
   "source": [
    "import sqlite3\n",
    "uri_database = \"sqlite:///database.sqlite\""
   ]
  },
  {
   "cell_type": "code",
   "execution_count": 47,
   "metadata": {},
   "outputs": [],
   "source": [
    "players = pd.read_sql_table(\"Player\",uri_database)\n",
    "players_attributes = pd.read_sql_table(\"Player_Attributes\",uri_database)\n",
    "team_attributes = pd.read_sql_table(\"Team_Attributes\", uri_database)"
   ]
  },
  {
   "cell_type": "code",
   "execution_count": 50,
   "metadata": {},
   "outputs": [
    {
     "name": "stdout",
     "output_type": "stream",
     "text": [
      "Players DF:  (11060, 7)\n",
      "Players attributes DF:  (183978, 42)\n",
      "Team attributes DF:  (1458, 25)\n"
     ]
    }
   ],
   "source": [
    "print(\"Players DF: \", players.shape)\n",
    "print(\"Players attributes DF: \", players_attributes.shape)\n",
    "print(\"Team attributes DF: \", team_attributes.shape)"
   ]
  },
  {
   "cell_type": "markdown",
   "metadata": {},
   "source": [
    "## EDA\n",
    "Can someone do some EDA?"
   ]
  }
 ],
 "metadata": {
  "kernelspec": {
   "display_name": "Python 3",
   "language": "python",
   "name": "python3"
  },
  "language_info": {
   "codemirror_mode": {
    "name": "ipython",
    "version": 3
   },
   "file_extension": ".py",
   "mimetype": "text/x-python",
   "name": "python",
   "nbconvert_exporter": "python",
   "pygments_lexer": "ipython3",
   "version": "3.6.4"
  }
 },
 "nbformat": 4,
 "nbformat_minor": 2
}
