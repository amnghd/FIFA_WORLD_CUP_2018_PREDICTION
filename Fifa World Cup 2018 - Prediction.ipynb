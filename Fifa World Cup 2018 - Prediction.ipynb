{
 "cells": [
  {
   "cell_type": "markdown",
   "metadata": {},
   "source": [
    "# Fifa World Cup 2018 - Prediction"
   ]
  },
  {
   "cell_type": "markdown",
   "metadata": {},
   "source": [
    "## Brainstorming\n",
    "\n",
    "This section is dedicated to the Exploratory Data Analysis and brainstoriming on possible faetures and problem formulation."
   ]
  },
  {
   "cell_type": "code",
   "execution_count": 32,
   "metadata": {},
   "outputs": [],
   "source": [
    "import pandas as pd\n",
    "import numpy as np\n",
    "import matplotlib.pyplot as plt\n",
    "import sqlalchemy\n",
    "%matplotlib inline"
   ]
  },
  {
   "cell_type": "markdown",
   "metadata": {},
   "source": [
    "### Data set 1: [International football results from 1872 to 2018](https://www.kaggle.com/martj42/international-football-results-from-1872-to-2017/data):\n",
    "\n",
    "This data set contains the results of internation games for the past 146 years.\n",
    "\n",
    "AG: Let's import the main data set(international games).\n",
    "With this we can get some data for all the available games till now.\n",
    "Especially the last 2 decades of these data can be used to extract some useful information for eahc team. These are the features I think we can get out of this data:\n",
    "\n",
    "`` win to lose ratio total``\n",
    "\n",
    "`` win to lose ration general``\n",
    "\n",
    "``mean goal scored`` --> this can be used to define weather team is defensive or not\n",
    "\n",
    "``mean goal recieved``--> this can be used to define weather team is offensive or not"
   ]
  },
  {
   "cell_type": "code",
   "execution_count": 10,
   "metadata": {},
   "outputs": [],
   "source": [
    "international = pd.read_csv('international_matches.zip', compression='zip', header=0, sep=',', quotechar='\"')"
   ]
  },
  {
   "cell_type": "code",
   "execution_count": 12,
   "metadata": {},
   "outputs": [
    {
     "name": "stdout",
     "output_type": "stream",
     "text": [
      "<class 'pandas.core.frame.DataFrame'>\n",
      "RangeIndex: 38902 entries, 0 to 38901\n",
      "Data columns (total 8 columns):\n",
      "date          38902 non-null object\n",
      "home_team     38902 non-null object\n",
      "away_team     38902 non-null object\n",
      "home_score    38902 non-null int64\n",
      "away_score    38902 non-null int64\n",
      "tournament    38902 non-null object\n",
      "city          38902 non-null object\n",
      "country       38902 non-null object\n",
      "dtypes: int64(2), object(6)\n",
      "memory usage: 2.4+ MB\n"
     ]
    }
   ],
   "source": [
    "international.info()"
   ]
  },
  {
   "cell_type": "markdown",
   "metadata": {},
   "source": [
    "### Dataset 2: fifa 2018 schedule\n",
    "\n",
    "This dataset consist of all the games in the upcoming matches. What we are thinking of getting from this data is the name of the participating teams. Moreover, eventually we use them to predict all of the games and the champion."
   ]
  },
  {
   "cell_type": "code",
   "execution_count": 29,
   "metadata": {},
   "outputs": [],
   "source": [
    "fifa2018 = pd.read_csv('fifa2018.csv')"
   ]
  },
  {
   "cell_type": "code",
   "execution_count": 30,
   "metadata": {},
   "outputs": [],
   "source": [
    "counteris2018 = fifa2018['Home Team'].unique()[:32]"
   ]
  },
  {
   "cell_type": "code",
   "execution_count": 31,
   "metadata": {},
   "outputs": [
    {
     "data": {
      "text/plain": [
       "array(['Russia', 'Egypt', 'Morocco', 'Portugal', 'France', 'Argentina',\n",
       "       'Peru', 'Croatia', 'Costa Rica', 'Germany', 'Brazil', 'Sweden',\n",
       "       'Belgium', 'Tunisia', 'Colombia', 'Poland', 'Uruguay', 'Iran',\n",
       "       'Denmark', 'Nigeria', 'Serbia', 'Korea Republic', 'England',\n",
       "       'Japan', 'Saudi Arabia', 'Spain', 'Australia', 'Iceland', 'Mexico',\n",
       "       'Switzerland', 'Senegal', 'Panama'], dtype=object)"
      ]
     },
     "execution_count": 31,
     "metadata": {},
     "output_type": "execute_result"
    }
   ],
   "source": [
    "counteris2018"
   ]
  },
  {
   "cell_type": "markdown",
   "metadata": {},
   "source": [
    "### Dataset3: [Euorpian Socer Data Base](https://www.kaggle.com/hugomathien/soccer/data):\n",
    "\n",
    "(can anybody add some explanation here?)\n",
    "!!! You need to extract the players.sqlite.zip to the same folder !!!"
   ]
  },
  {
   "cell_type": "code",
   "execution_count": 61,
   "metadata": {},
   "outputs": [],
   "source": [
    "from sqlalchemy import create_engine\n",
    "from sqlalchemy import inspect\n",
    "from sqlalchemy import MetaData\n",
    "from sqlalchemy import Table"
   ]
  },
  {
   "cell_type": "code",
   "execution_count": 50,
   "metadata": {},
   "outputs": [],
   "source": [
    "player_database = \"sqlite:///database.sqlite\"\n",
    "engine = create_engine(player_database)\n",
    "conn = engine.connect()"
   ]
  },
  {
   "cell_type": "code",
   "execution_count": 79,
   "metadata": {},
   "outputs": [
    {
     "data": {
      "text/plain": [
       "['Country',\n",
       " 'League',\n",
       " 'Match',\n",
       " 'Player',\n",
       " 'Player_Attributes',\n",
       " 'Team',\n",
       " 'Team_Attributes']"
      ]
     },
     "execution_count": 79,
     "metadata": {},
     "output_type": "execute_result"
    }
   ],
   "source": [
    "player_tables_names = (engine.table_names())[:-1]\n",
    "player_tables_names"
   ]
  },
  {
   "cell_type": "code",
   "execution_count": 80,
   "metadata": {},
   "outputs": [
    {
     "name": "stdout",
     "output_type": "stream",
     "text": [
      "Country data set has the following shape:\n",
      "(11, 2)\n",
      "League data set has the following shape:\n",
      "(11, 3)\n",
      "Match data set has the following shape:\n",
      "(25979, 115)\n",
      "Player data set has the following shape:\n",
      "(11060, 7)\n",
      "Player_Attributes data set has the following shape:\n",
      "(183978, 42)\n",
      "Team data set has the following shape:\n",
      "(299, 5)\n",
      "Team_Attributes data set has the following shape:\n",
      "(1458, 25)\n"
     ]
    }
   ],
   "source": [
    "player_dfs = []\n",
    "\n",
    "for table in player_tables_names:\n",
    "    df= pd.read_sql(\"SELECT * FROM \"+table, conn)\n",
    "    player_dfs.append(df)\n",
    "    print(table+\" data set has the following shape:\\n{}\".format(df.shape))"
   ]
  },
  {
   "cell_type": "markdown",
   "metadata": {},
   "source": [
    "## EDA\n",
    "Can someone do some EDA?"
   ]
  }
 ],
 "metadata": {
  "kernelspec": {
   "display_name": "Python 3",
   "language": "python",
   "name": "python3"
  },
  "language_info": {
   "codemirror_mode": {
    "name": "ipython",
    "version": 3
   },
   "file_extension": ".py",
   "mimetype": "text/x-python",
   "name": "python",
   "nbconvert_exporter": "python",
   "pygments_lexer": "ipython3",
   "version": "3.6.4"
  }
 },
 "nbformat": 4,
 "nbformat_minor": 2
}
